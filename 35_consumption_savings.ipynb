{
 "cells": [
  {
   "cell_type": "markdown",
   "metadata": {
    "slideshow": {
     "slide_type": "slide"
    }
   },
   "source": [
    "# Foundations of Computational Economics #35\n",
    "\n",
    "by Fedor Iskhakov, ANU\n",
    "\n",
    "<img src=\"_static/img/dag3logo.png\" style=\"width:256px;\">"
   ]
  },
  {
   "cell_type": "markdown",
   "metadata": {
    "slideshow": {
     "slide_type": "fragment"
    }
   },
   "source": [
    "## Stochastic consumption-savings model with discretized choice\n",
    "\n",
    "<img src=\"_static/img/lecture.png\" style=\"width:64px;\">"
   ]
  },
  {
   "cell_type": "markdown",
   "metadata": {
    "slideshow": {
     "slide_type": "subslide"
    }
   },
   "source": [
    "<img src=\"_static/img/youtube.png\" style=\"width:65px;\">\n",
    "\n",
    "[https://youtu.be/3FI_05ok66k](https://youtu.be/3FI_05ok66k)\n",
    "\n",
    "Description: Deaton model of consumption and savings with random returns. Using quadrature to compute the expectation in the Bellman equation."
   ]
  },
  {
   "cell_type": "markdown",
   "metadata": {
    "slideshow": {
     "slide_type": "slide"
    }
   },
   "source": [
    "### Recap: components of the dynamic model\n",
    "\n",
    "1. **State variables** — vector of variables that describe all relevant\n",
    "  information about the modeled decision process  \n",
    "1. **Decision variables** — vector of variables describing the choices, along\n",
    "  with restrictions on the choice set  \n",
    "1. **Instantaneous payoff** — utility function, with\n",
    "  time separable discounted lifetime (overall) utility  \n",
    "1. **Motion rules** — agent’s beliefs of how state variable evolve\n",
    "  through time, conditional on choices  \n",
    "\n",
    "\n",
    "- **Value function** — maximum attainable lifetime utility  \n",
    "- **Policy function** — mapping from state space to action space that\n",
    "  results in maximum lifetime utility (the optimal choice)  "
   ]
  },
  {
   "cell_type": "markdown",
   "metadata": {
    "slideshow": {
     "slide_type": "slide"
    }
   },
   "source": [
    "### Bellman equation/operator\n",
    "\n",
    "- Bellman equation has all relevant model parts: fully specifies the model  \n",
    "- *Equation* when thought of as point-wise equality of two functions  \n",
    "\n",
    "\n",
    "$$\n",
    "V(M)=\\max_{0 \\le c \\le M}\\big\\{u(c)+\\beta V(\\underset{=M-c}{\\underbrace{M'}})\\big\\}\n",
    "$$\n",
    "\n",
    "- *Operator* when thought of as map that takes one (value) function $ V(\\cdot) $ as input\n",
    "  (it goes to the RHS), and returns another (value) function  \n",
    "\n",
    "\n",
    "$$\n",
    "T(V)(M)=\\max_{0 \\le c \\le M}\\big\\{u(c)+\\beta V(\\underset{=M-c}{\\underbrace{M'}})\\big\\}\n",
    "$$\n",
    "\n",
    "*Which problem is this?*"
   ]
  },
  {
   "cell_type": "markdown",
   "metadata": {
    "slideshow": {
     "slide_type": "slide"
    }
   },
   "source": [
    "### From cake eating to consumption-savings (in infinite horizon)\n",
    "\n",
    "$$\n",
    "V(M)=\\max_{0 \\le c \\le M}\\big\\{u(c)+\\beta V\\big(\\underset{=M'}{\\underbrace{R(M-c)+y}}\\big)\\big\\}\n",
    "$$\n",
    "\n",
    "What has changed?"
   ]
  },
  {
   "cell_type": "markdown",
   "metadata": {
    "slideshow": {
     "slide_type": "slide"
    }
   },
   "source": [
    "### Consumption-savings problem (Deaton model)\n",
    "\n",
    "New interpretation:\n",
    "\n",
    "- Wealth in the beginning of the period $ t $ is $ M $  \n",
    "- Consumption during the period $ t $ is $ 0 \\le c \\le M $  \n",
    "- No borrowing is allowed  \n",
    "- Discount factor $ \\beta $, time separable utility $ u(c) = \\log(c) $  \n",
    "- Gross return on savings $ R $, *can be stochastic*  \n",
    "- Constant income $ y \\ge 0 $, *can be stochastic*  \n",
    "\n",
    "\n",
    "For cake eating problem we have $ R=1 $ and $ y=0 $."
   ]
  },
  {
   "cell_type": "markdown",
   "metadata": {
    "slideshow": {
     "slide_type": "slide"
    }
   },
   "source": [
    "### Stochastic consumption-savings problem\n",
    "\n",
    "$$\n",
    "V(M)=\\max_{0 \\le c \\le M}\\big\\{u(c)+\\beta \\mathbb{E}_{R,y} V\\big(\\underset{=M'}{\\underbrace{\\tilde{R}(M-c)+\\tilde{y}}}\\big)\\big\\}\n",
    "$$\n",
    "\n",
    "- we focus on income fluctuations $ \\tilde{y} $ and fix $ \\tilde{R} $  \n",
    "- let stochastic income $ \\tilde{y} $ follow a log-normal distribution with parameters $ \\mu = 0 $ and $ \\sigma $ to be specified  \n",
    "- then $ \\tilde{y} > 0 $ and $ \\mathbb{E}(\\tilde{y}) = \\exp(\\sigma^2/2) $  \n",
    "- for backward compatibility add $ y=0 $ special case  \n",
    "\n",
    "\n",
    "[https://en.wikipedia.org/wiki/Log-normal_distribution](https://en.wikipedia.org/wiki/Log-normal_distribution)"
   ]
  },
  {
   "cell_type": "markdown",
   "metadata": {
    "slideshow": {
     "slide_type": "slide"
    }
   },
   "source": [
    "### Solving stochastic consumption-savings model\n",
    "\n",
    "VFI solution method will still work\n",
    "\n",
    "1. Discretize state space and set the initial values for $ V_0(M) $ at state grid  \n",
    "1. Evaluate Bellman operator to compute $ V_i(M) $ from $ V_{i-1}(M) $, and simultaneously compute the optimal decisions (policy) $ c_i(M) $ at state grid  \n",
    "1. Check for convergence in value function space, repeat the last step if not yet converged  \n",
    "\n",
    "\n",
    "**But now need to compute the expectation when calculating the maximand in the Bellman equation**\n",
    "\n",
    "Quadrature!"
   ]
  },
  {
   "cell_type": "markdown",
   "metadata": {
    "slideshow": {
     "slide_type": "slide"
    }
   },
   "source": [
    "### Gauss-Legendre Quadrature\n",
    "\n",
    "- Domain $ [-1,1] $  \n",
    "- Weighting $ 1 $  \n",
    "\n",
    "\n",
    "$$\n",
    "\\int_{-1}^1 f(x)dx = \\sum_{i=1}^{n} w_i f(x_i) + \\frac{2^{2n+1}(n!)^4}{(2n+1)!(2n)!} \\frac{f^{(2n)}(\\xi)}{(2n)!}\n",
    "$$\n",
    "\n",
    "Nodes and weights are returned by `numpy.polynomial.legendre.leggauss()`\n",
    "\n",
    "[https://numpy.org/doc/stable/reference/generated/numpy.polynomial.legendre.leggauss.html](https://numpy.org/doc/stable/reference/generated/numpy.polynomial.legendre.leggauss.html)"
   ]
  },
  {
   "cell_type": "markdown",
   "metadata": {
    "slideshow": {
     "slide_type": "slide"
    }
   },
   "source": [
    "### Details on the quadrature calculation\n",
    "\n",
    "$$\n",
    "\\mathbb{E}_{y} V\\big(M'(\\tilde{y})\\big) = \\int_{-\\infty}^{\\infty} V\\big(M'(y)\\big) f(y) dy =\n",
    "$$\n",
    "\n",
    "- Change of variable $ z = F(y) $, so $ dz = F'(y) dy = f(y) dy $, where $ F(y) $ and $ f(y) $ are cdf and pdf  \n",
    "\n",
    "\n",
    "$$\n",
    "= \\int_0^1 V\\big(M'\\big(F^{-1}(z)\\big)\\big) dz =\n",
    "$$\n",
    "\n",
    "- Change of variable $ x = 2z-1 $, so that $ dx = 2 dz $  \n",
    "\n",
    "\n",
    "$$\n",
    "= \\int_{-1}^1 V\\big(M'\\big(F^{-1}\\left(\\frac{x+1}{2}\\right)\\big)\\big) \\frac{dx}{2} \\approx \\sum_i \\frac{w_i}{2} V\\big(M'\\big(F^{-1}\\left(\\frac{q_i+1}{2}\\right)\\big)\\big)\n",
    "$$\n",
    "\n",
    "- For convenience, convert the the Gauss-Legendre quadrature notes and weights $ \\{q_i,w_i\\} $ to $ q'_i = F^{-1}(\\frac{q_i+1}{2}) $ and $ w'_i = \\frac{w_i}{2} $  "
   ]
  },
  {
   "cell_type": "markdown",
   "metadata": {
    "slideshow": {
     "slide_type": "slide"
    }
   },
   "source": [
    "### Adding expectation to cake_discretized() class\n",
    "\n",
    "Recall the design of Bellman equation code:\n",
    "\n",
    "- build up the Bellman **maximand as a matrix** with different **states in columns, choices in rows**  \n",
    "- mask off the infeasible choices with $ -\\infty $  \n",
    "- take maximum along `axis=0`, that is among rows in each column  \n",
    "- resulting vector represents the updated value function for every point of the state space, and is the return of the Bellman operator  "
   ]
  },
  {
   "cell_type": "markdown",
   "metadata": {
    "slideshow": {
     "slide_type": "slide"
    }
   },
   "source": [
    "Now before adding current utility and taking the maximum, need to compute quadrature:\n",
    "\n",
    "- build up the next period value function as **3-dim array** with **choices in axis=0, states in axis=1, and quadrature points in axis=2**  \n",
    "- compute quadrature using `numpy.dot()` n-dim array multiplication to get a matrix  \n",
    "- add current utility to complete the Bellman maximand as a matrix with states in columns, choices in rows  \n",
    "- …  \n",
    "\n",
    "\n",
    "[https://numpy.org/doc/stable/reference/generated/numpy.dot.html](https://numpy.org/doc/stable/reference/generated/numpy.dot.html)"
   ]
  },
  {
   "cell_type": "code",
   "execution_count": 2,
   "metadata": {
    "hide-output": false,
    "slideshow": {
     "slide_type": "slide"
    }
   },
   "outputs": [
    {
     "name": "stdout",
     "output_type": "stream",
     "text": [
      "Help on function dot in module numpy:\n",
      "\n",
      "dot(...)\n",
      "    dot(a, b, out=None)\n",
      "    \n",
      "    Dot product of two arrays. Specifically,\n",
      "    \n",
      "    - If both `a` and `b` are 1-D arrays, it is inner product of vectors\n",
      "      (without complex conjugation).\n",
      "    \n",
      "    - If both `a` and `b` are 2-D arrays, it is matrix multiplication,\n",
      "      but using :func:`matmul` or ``a @ b`` is preferred.\n",
      "    \n",
      "    - If either `a` or `b` is 0-D (scalar), it is equivalent to\n",
      "      :func:`multiply` and using ``numpy.multiply(a, b)`` or ``a * b`` is\n",
      "      preferred.\n",
      "    \n",
      "    - If `a` is an N-D array and `b` is a 1-D array, it is a sum product over\n",
      "      the last axis of `a` and `b`.\n",
      "    \n",
      "    - If `a` is an N-D array and `b` is an M-D array (where ``M>=2``), it is a\n",
      "      sum product over the last axis of `a` and the second-to-last axis of\n",
      "      `b`::\n",
      "    \n",
      "        dot(a, b)[i,j,k,m] = sum(a[i,j,:] * b[k,:,m])\n",
      "    \n",
      "    It uses an optimized BLAS library when possible (see `numpy.linalg`).\n",
      "    \n",
      "    Parameters\n",
      "    ----------\n",
      "    a : array_like\n",
      "        First argument.\n",
      "    b : array_like\n",
      "        Second argument.\n",
      "    out : ndarray, optional\n",
      "        Output argument. This must have the exact kind that would be returned\n",
      "        if it was not used. In particular, it must have the right type, must be\n",
      "        C-contiguous, and its dtype must be the dtype that would be returned\n",
      "        for `dot(a,b)`. This is a performance feature. Therefore, if these\n",
      "        conditions are not met, an exception is raised, instead of attempting\n",
      "        to be flexible.\n",
      "    \n",
      "    Returns\n",
      "    -------\n",
      "    output : ndarray\n",
      "        Returns the dot product of `a` and `b`.  If `a` and `b` are both\n",
      "        scalars or both 1-D arrays then a scalar is returned; otherwise\n",
      "        an array is returned.\n",
      "        If `out` is given, then it is returned.\n",
      "    \n",
      "    Raises\n",
      "    ------\n",
      "    ValueError\n",
      "        If the last dimension of `a` is not the same size as\n",
      "        the second-to-last dimension of `b`.\n",
      "    \n",
      "    See Also\n",
      "    --------\n",
      "    vdot : Complex-conjugating dot product.\n",
      "    tensordot : Sum products over arbitrary axes.\n",
      "    einsum : Einstein summation convention.\n",
      "    matmul : '@' operator as method with out parameter.\n",
      "    linalg.multi_dot : Chained dot product.\n",
      "    \n",
      "    Examples\n",
      "    --------\n",
      "    >>> np.dot(3, 4)\n",
      "    12\n",
      "    \n",
      "    Neither argument is complex-conjugated:\n",
      "    \n",
      "    >>> np.dot([2j, 3j], [2j, 3j])\n",
      "    (-13+0j)\n",
      "    \n",
      "    For 2-D arrays it is the matrix product:\n",
      "    \n",
      "    >>> a = [[1, 0], [0, 1]]\n",
      "    >>> b = [[4, 1], [2, 2]]\n",
      "    >>> np.dot(a, b)\n",
      "    array([[4, 1],\n",
      "           [2, 2]])\n",
      "    \n",
      "    >>> a = np.arange(3*4*5*6).reshape((3,4,5,6))\n",
      "    >>> b = np.arange(3*4*5*6)[::-1].reshape((5,4,6,3))\n",
      "    >>> np.dot(a, b)[2,3,2,1,2,2]\n",
      "    499128\n",
      "    >>> sum(a[2,3,2,:] * b[1,2,:,2])\n",
      "    499128\n",
      "\n",
      "[[[0. 1.]\n",
      "  [0. 1.]\n",
      "  [0. 1.]\n",
      "  [0. 1.]]\n",
      "\n",
      " [[0. 1.]\n",
      "  [0. 1.]\n",
      "  [0. 1.]\n",
      "  [0. 1.]]\n",
      "\n",
      " [[0. 1.]\n",
      "  [0. 1.]\n",
      "  [0. 1.]\n",
      "  [0. 1.]]]\n",
      "\n",
      " [0.75 0.25] \n",
      "\n",
      "[[0.25 0.25 0.25 0.25]\n",
      " [0.25 0.25 0.25 0.25]\n",
      " [0.25 0.25 0.25 0.25]]\n"
     ]
    }
   ],
   "source": [
    "# Multiplication of tree-dimensional array by a vector\n",
    "import numpy as np\n",
    "help(np.dot)\n",
    "a = np.zeros((3,4,2))  # 3-dim array 3 by 3 by 2 = two 3x3 matrixes stacked\n",
    "a[:,:,1] = np.ones((3,4))  # second of two 3x3 matrixes is all ones\n",
    "print(a)\n",
    "b = np.asarray([.75,.25])\n",
    "print('\\n',b,'\\n')\n",
    "print(np.dot(a,b))"
   ]
  },
  {
   "cell_type": "code",
   "execution_count": 3,
   "metadata": {
    "hide-output": false,
    "slideshow": {
     "slide_type": "slide"
    }
   },
   "outputs": [
    {
     "name": "stdout",
     "output_type": "stream",
     "text": [
      "1 \n",
      "Shape = () \n",
      "Ndim = 0\n",
      "[[[1]]] \n",
      "Shape = (1, 1, 1) \n",
      "Ndim = 3\n"
     ]
    }
   ],
   "source": [
    "# One more tough spot: adding dimensions up to 3\n",
    "a = np.asarray(1)\n",
    "# a = np.asarray([1,2,3])\n",
    "# a = np.asarray([[1,2,3],[3,4,5]])\n",
    "# a = np.asarray([[[1,2,3],[3,4,5]],[[0,1,3],[2,5,6]]])\n",
    "print(a,'\\nShape =',a.shape,'\\nNdim =',a.ndim)\n",
    "# For tuples: multiplication = repeating given number of times\n",
    "#             addition = concatenation\n",
    "a.shape += (1,)*(3-a.ndim)  # add singular dimensions up to 3\n",
    "print(a,'\\nShape =',a.shape,'\\nNdim =',a.ndim)"
   ]
  },
  {
   "cell_type": "markdown",
   "metadata": {
    "slideshow": {
     "slide_type": "slide"
    }
   },
   "source": [
    "### Code for the discretized cake-eating problem from video 32 for comparison"
   ]
  },
  {
   "cell_type": "code",
   "execution_count": 4,
   "metadata": {
    "hide-output": false,
    "slideshow": {
     "slide_type": "fragment"
    }
   },
   "outputs": [],
   "source": [
    "import numpy as np\n",
    "import matplotlib.pyplot as plt\n",
    "%matplotlib inline\n",
    "plt.rcParams['figure.figsize'] = [12, 8]\n",
    "\n",
    "from scipy import interpolate # Interpolation routines\n",
    "\n",
    "class cake_discretized():\n",
    "    '''Class to implement the cake eating model with discretized choice'''\n",
    "\n",
    "    def __init__(self,beta=.9, Wbar=10, ngrid=50, nchgrid=100, optim_ch=True):\n",
    "        '''Initializer'''\n",
    "        self.beta = beta    # Discount factor\n",
    "        self.Wbar = Wbar    # Upper bound on cake size\n",
    "        self.ngrid = ngrid  # Number of grid points\n",
    "        self.nchgrid = nchgrid  # Number of grid points for choice grid\n",
    "        self.epsilon = np.finfo(float).eps # smallest positive float number\n",
    "        self.grid = np.linspace(self.epsilon,Wbar,ngrid) # grid for state space\n",
    "        self.chgrid = np.linspace(self.epsilon,Wbar,nchgrid) # grid for decision space\n",
    "        self.optim_ch = optim_ch\n",
    "\n",
    "    def bellman(self,V0):\n",
    "        '''Bellman operator, V0 is one-dim vector of values on state grid'''\n",
    "        c = self.chgrid[:,np.newaxis]  # column vector\n",
    "        if self.optim_ch:\n",
    "            c = c + np.zeros(self.ngrid)  # matrix of consumption values\n",
    "            c *= self.grid/self.Wbar  # scale choices to ensure c<W\n",
    "        W = self.grid  # one-dim (like row vector)\n",
    "        interp = interpolate.interp1d(self.grid,V0,bounds_error=False,fill_value='extrapolate')\n",
    "        matV1 = np.log(c) + self.beta * interp(W-c)\n",
    "        matV1[c>W] = -np.inf  # infeasible choices\n",
    "        V1 = np.amax(matV1,axis=0,keepdims=False) # maximum in every column\n",
    "        if self.optim_ch:\n",
    "            c1 = c[np.argmax(matV1,axis=0),np.arange(self.ngrid)]\n",
    "        else:\n",
    "            c1 = c[np.argmax(matV1,axis=0)]  # consumption (index of maximum in every column)\n",
    "        return V1, c1\n",
    "\n",
    "    def solve(self, maxiter=1000, tol=1e-4, callback=None):\n",
    "        '''Solves the model using VFI (successive approximations)'''\n",
    "        V0=np.log(self.grid) # on first iteration assume consuming everything\n",
    "        for iter in range(maxiter):\n",
    "            V1,c1=self.bellman(V0)\n",
    "            if callback: callback(iter,self.grid,V1,c1) # callback for making plots\n",
    "            if np.all(abs(V1-V0) < tol):\n",
    "                break\n",
    "            V0=V1\n",
    "        else:  # when i went up to maxiter\n",
    "            print('No convergence: maximum number of iterations achieved!')\n",
    "        return V1,c1"
   ]
  },
  {
   "cell_type": "code",
   "execution_count": 5,
   "metadata": {
    "hide-output": false,
    "slideshow": {
     "slide_type": "slide"
    }
   },
   "outputs": [],
   "source": [
    "import numpy as np\n",
    "import matplotlib.pyplot as plt\n",
    "from scipy import interpolate\n",
    "from scipy.stats import lognorm\n",
    "\n",
    "class deaton():\n",
    "    '''Implementation of the stochastic Deaton consumption-savings problem with random income.'''\n",
    "\n",
    "    def __init__(self, Mbar=10,\n",
    "                 ngrid=50, nchgrid=100, nquad=10, interpolation='linear',\n",
    "                 beta=.9, R=1.05, sigma=1.):\n",
    "        '''Object creator for the stochastic consumption-savings model'''\n",
    "        self.beta = beta        # Discount factor\n",
    "        self.R = R              # Gross interest\n",
    "        self.sigma = sigma      # Param in log-normal income distribution\n",
    "        self.Mbar = Mbar        # Upper bound on wealth\n",
    "        self.ngrid = ngrid      # Number of grid points in the state space\n",
    "        self.nchgrid = nchgrid  # Number of grid points in the decision space\n",
    "        self.nquad = nquad      # Number of quadrature points\n",
    "        self.interpolation = interpolation  # type of interpolation, see below\n",
    "        # state and choice space grids, as well as quadrature points and weights are set with setter functions below\n",
    "\n",
    "    def __repr__(self):\n",
    "        '''String representation for the model'''\n",
    "        return 'Deaton model with beta={:1.3f}, sigma={:1.3f}, gross return={:1.3f}\\nGrids: state {} points up to {:1.1f}, choice {} points, quadrature {} points\\nInterpolation: {}'\\\n",
    "               .format(self.beta,self.sigma,self.R,self.ngrid,self.Mbar,self.nchgrid,self.nquad,self.interpolation)\n",
    "\n",
    "    @property\n",
    "    def ngrid(self):\n",
    "        '''Property getter for the ngrid parameter'''\n",
    "        return self.__ngrid\n",
    "\n",
    "    @ngrid.setter\n",
    "    def ngrid(self,ngrid):\n",
    "        '''Property setter for the ngrid parameter'''\n",
    "        self.__ngrid = ngrid\n",
    "        epsilon = np.finfo(float).eps # smallest positive float number difference\n",
    "        self.grid = np.linspace(epsilon,self.Mbar,ngrid) # grid for state space\n",
    "\n",
    "    @property\n",
    "    def nchgrid(self):\n",
    "        '''Property getter for the nchgrid parameter'''\n",
    "        return self.__nchgrid\n",
    "\n",
    "    @nchgrid.setter\n",
    "    def nchgrid(self,nchgrid):\n",
    "        '''Property setter for the nchgrid parameter'''\n",
    "        self.__nchgrid = nchgrid\n",
    "        epsilon = np.finfo(float).eps # smallest positive float number difference\n",
    "        self.chgrid = np.linspace(epsilon,self.Mbar,nchgrid) # grid for state space\n",
    "\n",
    "    @property\n",
    "    def sigma(self):\n",
    "        '''Property getter for the sigma parameter'''\n",
    "        return self.__sigma\n",
    "\n",
    "    @sigma.setter\n",
    "    def sigma(self,sigma):\n",
    "        '''Property setter for the sigma parameter'''\n",
    "        self.__sigma = sigma\n",
    "        self.__quadrature_setup()  # update quadrature points and weights\n",
    "\n",
    "    @property\n",
    "    def nquad(self):\n",
    "        '''Property getter for the number of quadrature points'''\n",
    "        return self.__nquad\n",
    "\n",
    "    @nquad.setter\n",
    "    def nquad(self,nquad):\n",
    "        '''Property setter for the number of quadrature points'''\n",
    "        self.__nquad = nquad\n",
    "        self.__quadrature_setup()  # update quadrature points and weights\n",
    "\n",
    "    def __quadrature_setup(self):\n",
    "        '''Internal function to set up quadrature points and weights,\n",
    "        depends on sigma and nquad, therefore called from the property setters\n",
    "        '''\n",
    "        try:\n",
    "            # quadrature points and weights for log-normal distribution\n",
    "            self.quadp,self.quadw = np.polynomial.legendre.leggauss(self.__nquad) # Gauss-Legendre for [-1,1]\n",
    "            self.quadp = (self.quadp+1)/2 # rescale to [0,1]\n",
    "            self.quadp = lognorm.ppf(self.quadp,self.__sigma) # inverse cdf\n",
    "            self.quadw /= 2 # rescale weights as well\n",
    "            self.quadp.shape = (1,1,self.__nquad)  # quadrature points in third dimension of 3-dim array\n",
    "        except(AttributeError):\n",
    "            # when __nquad or __sigma are not yet set\n",
    "            pass\n",
    "\n",
    "    def utility(self,c):\n",
    "        '''Utility function'''\n",
    "        return np.log(c)\n",
    "\n",
    "    def next_period_wealth(self,M,c):\n",
    "        '''Next period budget, returned for all quadrature points'''\n",
    "        M1 = self.R*(M-c)             # next period wealth without income\n",
    "        M1.shape += (1,)*(3-M1.ndim)  # add singular dimensions up to 3\n",
    "        # interpolating over income ==> replace with quadrature points\n",
    "        if self.nquad>1:\n",
    "            return M1 + self.quadp    # 3-dim array\n",
    "        else:\n",
    "            return M1                 # special case of no income\n",
    "\n",
    "    def interp_func(self,x,f):\n",
    "        '''Returns the interpolation function for given data'''\n",
    "        if self.interpolation=='linear':\n",
    "            return interpolate.interp1d(x,f,kind='slinear',fill_value=\"extrapolate\")\n",
    "        elif self.interpolation=='quadratic':\n",
    "            return interpolate.interp1d(x,f,kind='quadratic',fill_value=\"extrapolate\")\n",
    "        elif self.interpolation=='cubic':\n",
    "            return interpolate.interp1d(x,f,kind='cubic',fill_value=\"extrapolate\")\n",
    "        elif self.interpolation=='polynomial':\n",
    "            p = np.polynomial.polynomial.polyfit(x,f,self.ngrid_state-1)\n",
    "            return lambda x: np.polynomial.polynomial.polyval(x,p)\n",
    "        else:\n",
    "            print('Unknown interpolation type')\n",
    "            return None\n",
    "\n",
    "    def bellman_discretized(self,V0):\n",
    "        '''Bellman operator with discretized choice,\n",
    "           V0 is 1-dim vector of values on the state grid\n",
    "        '''\n",
    "        states = self.grid[np.newaxis,:]                # state grid as row vector\n",
    "        choices = self.chgrid[:,np.newaxis]             # choice grid as column vector\n",
    "        M = np.repeat(states,self.nchgrid,axis=0)       # current wealth, state grid in columns (repeated rows)\n",
    "        c = np.repeat(choices,self.ngrid,axis=1)        # choice grid in rows (repeated columns)\n",
    "        c *= self.grid/self.Mbar                        # scale values of choices to ensure c<=M\n",
    "        M1 = self.next_period_wealth(M,c)               # 3-dim array with quad point in last dimension\n",
    "        inter = self.interp_func(self.grid,V0)          # interpolating function for next period value function\n",
    "        V1 = inter(M1)                                  # value function at next period wealth, 3-dim array\n",
    "        EV = np.dot(V1,self.quadw)                      # expected value function, 2-dim matrix\n",
    "        MX = self.utility(c) + self.beta*EV             # maximand of Bellman equation, 2-dim matrix\n",
    "        MX[c>M] = -np.inf                               # infeasible choices should have -inf (just in case)\n",
    "        V1 = np.amax(MX,axis=0,keepdims=False)          # optimal choice as maximum in every column, 1-dim vector\n",
    "        c1 = c[np.argmax(MX,axis=0),range(self.ngrid)]  # choose the max attaining levels of c\n",
    "        return V1, c1\n",
    "\n",
    "    def solve_vfi (self,maxiter=500,tol=1e-4,callback=None):\n",
    "        '''Solves the model using value function iterations (successive approximations of Bellman operator)\n",
    "           Callback function is invoked at each iteration with keyword arguments.\n",
    "        '''\n",
    "        V0 = self.utility(self.grid) # on first iteration assume consuming everything\n",
    "        for iter in range(maxiter):\n",
    "            V1,c1 = self.bellman_discretized(V0)\n",
    "            err = np.amax(np.abs(V1-V0))\n",
    "            if callback: callback(iter=iter,model=self,value=V1,policy=c1,err=err) # callback for making plots\n",
    "            if err < tol:\n",
    "                break  # converged!\n",
    "            V0 = V1  # prepare for the next iteration\n",
    "        else:  # when iter went up to maxiter\n",
    "            raise RuntimeError('No convergence: maximum number of iterations achieved!')\n",
    "        return V1,c1\n",
    "\n",
    "    def solve_plot(self,solver,**kvarg):\n",
    "        '''Illustrate solution\n",
    "           Inputs: solver (string), and any inputs to the solver\n",
    "        '''\n",
    "        if solver=='vfi':\n",
    "            solver_func = self.solve_vfi\n",
    "        else:\n",
    "            raise ValueError('Unknown solver label')\n",
    "        fig1, (ax1,ax2) = plt.subplots(1,2,figsize=(14,8))\n",
    "        ax1.grid(b=True, which='both', color='0.65', linestyle='-')\n",
    "        ax2.grid(b=True, which='both', color='0.65', linestyle='-')\n",
    "        ax1.set_title('Value function convergence with %s'%solver)\n",
    "        ax2.set_title('Policy function convergence with %s'%solver)\n",
    "        ax1.set_xlabel('Wealth, M')\n",
    "        ax2.set_xlabel('Wealth, M')\n",
    "        ax1.set_ylabel('Value function')\n",
    "        ax2.set_ylabel('Policy function')\n",
    "        def callback(**kwargs):\n",
    "            print('|',end='')\n",
    "            grid = kwargs['model'].grid\n",
    "            v = kwargs['value']\n",
    "            c = kwargs['policy']\n",
    "            ax1.plot(grid[1:],v[1:],color='k',alpha=0.25)\n",
    "            ax2.plot(grid,c,color='k',alpha=0.25)\n",
    "        V,c = solver_func(callback=callback,**kvarg)\n",
    "        # add solutions\n",
    "        ax1.plot(self.grid[1:],V[1:],color='r',linewidth=2.5)\n",
    "        ax2.plot(self.grid,c,color='r',linewidth=2.5)\n",
    "        plt.show()\n",
    "        return V,c"
   ]
  },
  {
   "cell_type": "code",
   "execution_count": 6,
   "metadata": {
    "hide-output": false,
    "slideshow": {
     "slide_type": "slide"
    }
   },
   "outputs": [
    {
     "name": "stdout",
     "output_type": "stream",
     "text": [
      "Deaton model with beta=0.900, sigma=1.000, gross return=1.050\n",
      "Grids: state 2 points up to 10.0, choice 100 points, quadrature 10 points\n",
      "Interpolation: linear\n",
      "State grid is\n",
      "[2.22044605e-16 1.00000000e+01]\n",
      "Deaton model with beta=0.900, sigma=1.000, gross return=1.050\n",
      "Grids: state 3 points up to 10.0, choice 100 points, quadrature 10 points\n",
      "Interpolation: linear\n",
      "Now state grid is\n",
      "[2.22044605e-16 5.00000000e+00 1.00000000e+01]\n",
      "Deaton model with beta=0.900, sigma=1.000, gross return=1.050\n",
      "Grids: state 50 points up to 10.0, choice 100 points, quadrature 2 points\n",
      "Interpolation: linear\n",
      "Quadrature points and weights are\n",
      "[[[0.44850623 2.22962345]]]\n",
      "[0.5 0.5]\n",
      "Deaton model with beta=0.900, sigma=1.000, gross return=1.050\n",
      "Grids: state 50 points up to 10.0, choice 100 points, quadrature 4 points\n",
      "Interpolation: linear\n",
      "Now quadrature points and weights are\n",
      "[[[0.22762954 0.64410921 1.55253176 4.39310303]]]\n",
      "[0.17392742 0.32607258 0.32607258 0.17392742]\n"
     ]
    }
   ],
   "source": [
    "# check automatically updating grids:\n",
    "m = deaton(ngrid=2)\n",
    "print(m,'State grid is',m.grid,sep='\\n')\n",
    "m.ngrid = 3\n",
    "print(m,'Now state grid is',m.grid,sep='\\n')\n",
    "\n",
    "# check automatically updating quadrature points and weights:\n",
    "m = deaton(nquad=2)\n",
    "print(m,'Quadrature points and weights are',m.quadp,m.quadw,sep='\\n')\n",
    "m.nquad = 4\n",
    "print(m,'Now quadrature points and weights are',m.quadp,m.quadw,sep='\\n')"
   ]
  },
  {
   "cell_type": "code",
   "execution_count": 7,
   "metadata": {
    "hide-output": false,
    "slideshow": {
     "slide_type": "slide"
    }
   },
   "outputs": [
    {
     "ename": "ValueError",
     "evalue": "keyword grid_b is not recognized; valid keywords are ['size', 'width', 'color', 'tickdir', 'pad', 'labelsize', 'labelcolor', 'labelfontfamily', 'zorder', 'gridOn', 'tick1On', 'tick2On', 'label1On', 'label2On', 'length', 'direction', 'left', 'bottom', 'right', 'top', 'labelleft', 'labelbottom', 'labelright', 'labeltop', 'labelrotation', 'grid_agg_filter', 'grid_alpha', 'grid_animated', 'grid_antialiased', 'grid_clip_box', 'grid_clip_on', 'grid_clip_path', 'grid_color', 'grid_dash_capstyle', 'grid_dash_joinstyle', 'grid_dashes', 'grid_data', 'grid_drawstyle', 'grid_figure', 'grid_fillstyle', 'grid_gapcolor', 'grid_gid', 'grid_in_layout', 'grid_label', 'grid_linestyle', 'grid_linewidth', 'grid_marker', 'grid_markeredgecolor', 'grid_markeredgewidth', 'grid_markerfacecolor', 'grid_markerfacecoloralt', 'grid_markersize', 'grid_markevery', 'grid_mouseover', 'grid_path_effects', 'grid_picker', 'grid_pickradius', 'grid_rasterized', 'grid_sketch_params', 'grid_snap', 'grid_solid_capstyle', 'grid_solid_joinstyle', 'grid_transform', 'grid_url', 'grid_visible', 'grid_xdata', 'grid_ydata', 'grid_zorder', 'grid_aa', 'grid_c', 'grid_ds', 'grid_ls', 'grid_lw', 'grid_mec', 'grid_mew', 'grid_mfc', 'grid_mfcalt', 'grid_ms']",
     "output_type": "error",
     "traceback": [
      "\u001b[1;31m---------------------------------------------------------------------------\u001b[0m",
      "\u001b[1;31mValueError\u001b[0m                                Traceback (most recent call last)",
      "Cell \u001b[1;32mIn[7], line 3\u001b[0m\n\u001b[0;32m      1\u001b[0m m \u001b[38;5;241m=\u001b[39m deaton(ngrid\u001b[38;5;241m=\u001b[39m\u001b[38;5;241m50\u001b[39m,nchgrid\u001b[38;5;241m=\u001b[39m\u001b[38;5;241m10\u001b[39m)\n\u001b[0;32m      2\u001b[0m m\u001b[38;5;241m.\u001b[39msolve_vfi()\n\u001b[1;32m----> 3\u001b[0m m\u001b[38;5;241m.\u001b[39msolve_plot(solver\u001b[38;5;241m=\u001b[39m\u001b[38;5;124m'\u001b[39m\u001b[38;5;124mvfi\u001b[39m\u001b[38;5;124m'\u001b[39m)\n\u001b[0;32m      5\u001b[0m m \u001b[38;5;241m=\u001b[39m deaton(sigma\u001b[38;5;241m=\u001b[39m\u001b[38;5;241m1e-8\u001b[39m,R\u001b[38;5;241m=\u001b[39m\u001b[38;5;241m1.05\u001b[39m,beta\u001b[38;5;241m=\u001b[39m\u001b[38;5;241m.95\u001b[39m,nquad\u001b[38;5;241m=\u001b[39m\u001b[38;5;241m1\u001b[39m)\n\u001b[0;32m      6\u001b[0m c,gr \u001b[38;5;241m=\u001b[39m m\u001b[38;5;241m.\u001b[39msolve_plot(solver\u001b[38;5;241m=\u001b[39m\u001b[38;5;124m'\u001b[39m\u001b[38;5;124mvfi\u001b[39m\u001b[38;5;124m'\u001b[39m)\n",
      "Cell \u001b[1;32mIn[5], line 162\u001b[0m, in \u001b[0;36mdeaton.solve_plot\u001b[1;34m(self, solver, **kvarg)\u001b[0m\n\u001b[0;32m    160\u001b[0m     \u001b[38;5;28;01mraise\u001b[39;00m \u001b[38;5;167;01mValueError\u001b[39;00m(\u001b[38;5;124m'\u001b[39m\u001b[38;5;124mUnknown solver label\u001b[39m\u001b[38;5;124m'\u001b[39m)\n\u001b[0;32m    161\u001b[0m fig1, (ax1,ax2) \u001b[38;5;241m=\u001b[39m plt\u001b[38;5;241m.\u001b[39msubplots(\u001b[38;5;241m1\u001b[39m,\u001b[38;5;241m2\u001b[39m,figsize\u001b[38;5;241m=\u001b[39m(\u001b[38;5;241m14\u001b[39m,\u001b[38;5;241m8\u001b[39m))\n\u001b[1;32m--> 162\u001b[0m ax1\u001b[38;5;241m.\u001b[39mgrid(b\u001b[38;5;241m=\u001b[39m\u001b[38;5;28;01mTrue\u001b[39;00m, which\u001b[38;5;241m=\u001b[39m\u001b[38;5;124m'\u001b[39m\u001b[38;5;124mboth\u001b[39m\u001b[38;5;124m'\u001b[39m, color\u001b[38;5;241m=\u001b[39m\u001b[38;5;124m'\u001b[39m\u001b[38;5;124m0.65\u001b[39m\u001b[38;5;124m'\u001b[39m, linestyle\u001b[38;5;241m=\u001b[39m\u001b[38;5;124m'\u001b[39m\u001b[38;5;124m-\u001b[39m\u001b[38;5;124m'\u001b[39m)\n\u001b[0;32m    163\u001b[0m ax2\u001b[38;5;241m.\u001b[39mgrid(b\u001b[38;5;241m=\u001b[39m\u001b[38;5;28;01mTrue\u001b[39;00m, which\u001b[38;5;241m=\u001b[39m\u001b[38;5;124m'\u001b[39m\u001b[38;5;124mboth\u001b[39m\u001b[38;5;124m'\u001b[39m, color\u001b[38;5;241m=\u001b[39m\u001b[38;5;124m'\u001b[39m\u001b[38;5;124m0.65\u001b[39m\u001b[38;5;124m'\u001b[39m, linestyle\u001b[38;5;241m=\u001b[39m\u001b[38;5;124m'\u001b[39m\u001b[38;5;124m-\u001b[39m\u001b[38;5;124m'\u001b[39m)\n\u001b[0;32m    164\u001b[0m ax1\u001b[38;5;241m.\u001b[39mset_title(\u001b[38;5;124m'\u001b[39m\u001b[38;5;124mValue function convergence with \u001b[39m\u001b[38;5;132;01m%s\u001b[39;00m\u001b[38;5;124m'\u001b[39m\u001b[38;5;241m%\u001b[39msolver)\n",
      "File \u001b[1;32mc:\\Users\\chadi\\anaconda3\\Lib\\site-packages\\matplotlib\\axes\\_base.py:3196\u001b[0m, in \u001b[0;36m_AxesBase.grid\u001b[1;34m(self, visible, which, axis, **kwargs)\u001b[0m\n\u001b[0;32m   3194\u001b[0m _api\u001b[38;5;241m.\u001b[39mcheck_in_list([\u001b[38;5;124m'\u001b[39m\u001b[38;5;124mx\u001b[39m\u001b[38;5;124m'\u001b[39m, \u001b[38;5;124m'\u001b[39m\u001b[38;5;124my\u001b[39m\u001b[38;5;124m'\u001b[39m, \u001b[38;5;124m'\u001b[39m\u001b[38;5;124mboth\u001b[39m\u001b[38;5;124m'\u001b[39m], axis\u001b[38;5;241m=\u001b[39maxis)\n\u001b[0;32m   3195\u001b[0m \u001b[38;5;28;01mif\u001b[39;00m axis \u001b[38;5;129;01min\u001b[39;00m [\u001b[38;5;124m'\u001b[39m\u001b[38;5;124mx\u001b[39m\u001b[38;5;124m'\u001b[39m, \u001b[38;5;124m'\u001b[39m\u001b[38;5;124mboth\u001b[39m\u001b[38;5;124m'\u001b[39m]:\n\u001b[1;32m-> 3196\u001b[0m     \u001b[38;5;28mself\u001b[39m\u001b[38;5;241m.\u001b[39mxaxis\u001b[38;5;241m.\u001b[39mgrid(visible, which\u001b[38;5;241m=\u001b[39mwhich, \u001b[38;5;241m*\u001b[39m\u001b[38;5;241m*\u001b[39mkwargs)\n\u001b[0;32m   3197\u001b[0m \u001b[38;5;28;01mif\u001b[39;00m axis \u001b[38;5;129;01min\u001b[39;00m [\u001b[38;5;124m'\u001b[39m\u001b[38;5;124my\u001b[39m\u001b[38;5;124m'\u001b[39m, \u001b[38;5;124m'\u001b[39m\u001b[38;5;124mboth\u001b[39m\u001b[38;5;124m'\u001b[39m]:\n\u001b[0;32m   3198\u001b[0m     \u001b[38;5;28mself\u001b[39m\u001b[38;5;241m.\u001b[39myaxis\u001b[38;5;241m.\u001b[39mgrid(visible, which\u001b[38;5;241m=\u001b[39mwhich, \u001b[38;5;241m*\u001b[39m\u001b[38;5;241m*\u001b[39mkwargs)\n",
      "File \u001b[1;32mc:\\Users\\chadi\\anaconda3\\Lib\\site-packages\\matplotlib\\axis.py:1693\u001b[0m, in \u001b[0;36mAxis.grid\u001b[1;34m(self, visible, which, **kwargs)\u001b[0m\n\u001b[0;32m   1690\u001b[0m \u001b[38;5;28;01mif\u001b[39;00m which \u001b[38;5;129;01min\u001b[39;00m [\u001b[38;5;124m'\u001b[39m\u001b[38;5;124mminor\u001b[39m\u001b[38;5;124m'\u001b[39m, \u001b[38;5;124m'\u001b[39m\u001b[38;5;124mboth\u001b[39m\u001b[38;5;124m'\u001b[39m]:\n\u001b[0;32m   1691\u001b[0m     gridkw[\u001b[38;5;124m'\u001b[39m\u001b[38;5;124mgridOn\u001b[39m\u001b[38;5;124m'\u001b[39m] \u001b[38;5;241m=\u001b[39m (\u001b[38;5;129;01mnot\u001b[39;00m \u001b[38;5;28mself\u001b[39m\u001b[38;5;241m.\u001b[39m_minor_tick_kw[\u001b[38;5;124m'\u001b[39m\u001b[38;5;124mgridOn\u001b[39m\u001b[38;5;124m'\u001b[39m]\n\u001b[0;32m   1692\u001b[0m                         \u001b[38;5;28;01mif\u001b[39;00m visible \u001b[38;5;129;01mis\u001b[39;00m \u001b[38;5;28;01mNone\u001b[39;00m \u001b[38;5;28;01melse\u001b[39;00m visible)\n\u001b[1;32m-> 1693\u001b[0m     \u001b[38;5;28mself\u001b[39m\u001b[38;5;241m.\u001b[39mset_tick_params(which\u001b[38;5;241m=\u001b[39m\u001b[38;5;124m'\u001b[39m\u001b[38;5;124mminor\u001b[39m\u001b[38;5;124m'\u001b[39m, \u001b[38;5;241m*\u001b[39m\u001b[38;5;241m*\u001b[39mgridkw)\n\u001b[0;32m   1694\u001b[0m \u001b[38;5;28;01mif\u001b[39;00m which \u001b[38;5;129;01min\u001b[39;00m [\u001b[38;5;124m'\u001b[39m\u001b[38;5;124mmajor\u001b[39m\u001b[38;5;124m'\u001b[39m, \u001b[38;5;124m'\u001b[39m\u001b[38;5;124mboth\u001b[39m\u001b[38;5;124m'\u001b[39m]:\n\u001b[0;32m   1695\u001b[0m     gridkw[\u001b[38;5;124m'\u001b[39m\u001b[38;5;124mgridOn\u001b[39m\u001b[38;5;124m'\u001b[39m] \u001b[38;5;241m=\u001b[39m (\u001b[38;5;129;01mnot\u001b[39;00m \u001b[38;5;28mself\u001b[39m\u001b[38;5;241m.\u001b[39m_major_tick_kw[\u001b[38;5;124m'\u001b[39m\u001b[38;5;124mgridOn\u001b[39m\u001b[38;5;124m'\u001b[39m]\n\u001b[0;32m   1696\u001b[0m                         \u001b[38;5;28;01mif\u001b[39;00m visible \u001b[38;5;129;01mis\u001b[39;00m \u001b[38;5;28;01mNone\u001b[39;00m \u001b[38;5;28;01melse\u001b[39;00m visible)\n",
      "File \u001b[1;32mc:\\Users\\chadi\\anaconda3\\Lib\\site-packages\\matplotlib\\axis.py:958\u001b[0m, in \u001b[0;36mAxis.set_tick_params\u001b[1;34m(self, which, reset, **kwargs)\u001b[0m\n\u001b[0;32m    945\u001b[0m \u001b[38;5;250m\u001b[39m\u001b[38;5;124;03m\"\"\"\u001b[39;00m\n\u001b[0;32m    946\u001b[0m \u001b[38;5;124;03mSet appearance parameters for ticks, ticklabels, and gridlines.\u001b[39;00m\n\u001b[0;32m    947\u001b[0m \n\u001b[1;32m   (...)\u001b[0m\n\u001b[0;32m    955\u001b[0m \u001b[38;5;124;03m    gridlines.\u001b[39;00m\n\u001b[0;32m    956\u001b[0m \u001b[38;5;124;03m\"\"\"\u001b[39;00m\n\u001b[0;32m    957\u001b[0m _api\u001b[38;5;241m.\u001b[39mcheck_in_list([\u001b[38;5;124m'\u001b[39m\u001b[38;5;124mmajor\u001b[39m\u001b[38;5;124m'\u001b[39m, \u001b[38;5;124m'\u001b[39m\u001b[38;5;124mminor\u001b[39m\u001b[38;5;124m'\u001b[39m, \u001b[38;5;124m'\u001b[39m\u001b[38;5;124mboth\u001b[39m\u001b[38;5;124m'\u001b[39m], which\u001b[38;5;241m=\u001b[39mwhich)\n\u001b[1;32m--> 958\u001b[0m kwtrans \u001b[38;5;241m=\u001b[39m \u001b[38;5;28mself\u001b[39m\u001b[38;5;241m.\u001b[39m_translate_tick_params(kwargs)\n\u001b[0;32m    960\u001b[0m \u001b[38;5;66;03m# the kwargs are stored in self._major/minor_tick_kw so that any\u001b[39;00m\n\u001b[0;32m    961\u001b[0m \u001b[38;5;66;03m# future new ticks will automatically get them\u001b[39;00m\n\u001b[0;32m    962\u001b[0m \u001b[38;5;28;01mif\u001b[39;00m reset:\n",
      "File \u001b[1;32mc:\\Users\\chadi\\anaconda3\\Lib\\site-packages\\matplotlib\\axis.py:1102\u001b[0m, in \u001b[0;36mAxis._translate_tick_params\u001b[1;34m(kw, reverse)\u001b[0m\n\u001b[0;32m   1100\u001b[0m \u001b[38;5;28;01mfor\u001b[39;00m key \u001b[38;5;129;01min\u001b[39;00m kw_:\n\u001b[0;32m   1101\u001b[0m     \u001b[38;5;28;01mif\u001b[39;00m key \u001b[38;5;129;01mnot\u001b[39;00m \u001b[38;5;129;01min\u001b[39;00m allowed_keys:\n\u001b[1;32m-> 1102\u001b[0m         \u001b[38;5;28;01mraise\u001b[39;00m \u001b[38;5;167;01mValueError\u001b[39;00m(\n\u001b[0;32m   1103\u001b[0m             \u001b[38;5;124m\"\u001b[39m\u001b[38;5;124mkeyword \u001b[39m\u001b[38;5;132;01m%s\u001b[39;00m\u001b[38;5;124m is not recognized; valid keywords are \u001b[39m\u001b[38;5;132;01m%s\u001b[39;00m\u001b[38;5;124m\"\u001b[39m\n\u001b[0;32m   1104\u001b[0m             \u001b[38;5;241m%\u001b[39m (key, allowed_keys))\n\u001b[0;32m   1105\u001b[0m kwtrans\u001b[38;5;241m.\u001b[39mupdate(kw_)\n\u001b[0;32m   1106\u001b[0m \u001b[38;5;28;01mreturn\u001b[39;00m kwtrans\n",
      "\u001b[1;31mValueError\u001b[0m: keyword grid_b is not recognized; valid keywords are ['size', 'width', 'color', 'tickdir', 'pad', 'labelsize', 'labelcolor', 'labelfontfamily', 'zorder', 'gridOn', 'tick1On', 'tick2On', 'label1On', 'label2On', 'length', 'direction', 'left', 'bottom', 'right', 'top', 'labelleft', 'labelbottom', 'labelright', 'labeltop', 'labelrotation', 'grid_agg_filter', 'grid_alpha', 'grid_animated', 'grid_antialiased', 'grid_clip_box', 'grid_clip_on', 'grid_clip_path', 'grid_color', 'grid_dash_capstyle', 'grid_dash_joinstyle', 'grid_dashes', 'grid_data', 'grid_drawstyle', 'grid_figure', 'grid_fillstyle', 'grid_gapcolor', 'grid_gid', 'grid_in_layout', 'grid_label', 'grid_linestyle', 'grid_linewidth', 'grid_marker', 'grid_markeredgecolor', 'grid_markeredgewidth', 'grid_markerfacecolor', 'grid_markerfacecoloralt', 'grid_markersize', 'grid_markevery', 'grid_mouseover', 'grid_path_effects', 'grid_picker', 'grid_pickradius', 'grid_rasterized', 'grid_sketch_params', 'grid_snap', 'grid_solid_capstyle', 'grid_solid_joinstyle', 'grid_transform', 'grid_url', 'grid_visible', 'grid_xdata', 'grid_ydata', 'grid_zorder', 'grid_aa', 'grid_c', 'grid_ds', 'grid_ls', 'grid_lw', 'grid_mec', 'grid_mew', 'grid_mfc', 'grid_mfcalt', 'grid_ms']"
     ]
    },
    {
     "data": {
      "image/png": "[encoded data removed]",
      "text/plain": [
       "<Figure size 1400x800 with 2 Axes>"
      ]
     },
     "metadata": {},
     "output_type": "display_data"
    }
   ],
   "source": [
    "m = deaton(ngrid=50,nchgrid=10)\n",
    "m.solve_vfi()\n",
    "m.solve_plot(solver='vfi')\n",
    "\n",
    "m = deaton(sigma=1e-8,R=1.05,beta=.95,nquad=1)\n",
    "c,gr = m.solve_plot(solver='vfi')"
   ]
  },
  {
   "cell_type": "code",
   "execution_count": null,
   "metadata": {
    "hide-output": false,
    "slideshow": {
     "slide_type": "slide"
    }
   },
   "outputs": [
    {
     "data": {
      "text/plain": [
       "<function matplotlib.pyplot.show(*args, **kw)>"
      ]
     },
     "execution_count": 7,
     "metadata": {},
     "output_type": "execute_result"
    },
    {
     "data": {
      "image/png": "[encoded data removed]",
      "text/plain": [
       "<Figure size 864x576 with 1 Axes>"
      ]
     },
     "metadata": {
      "needs_background": "light"
     },
     "output_type": "display_data"
    }
   ],
   "source": [
    "# Compare to the cake eating solution\n",
    "\n",
    "m1 = cake_discretized(beta=0.9,Wbar=10,ngrid=100,nchgrid=300)\n",
    "m2 = deaton(beta=0.9,Mbar=10,ngrid=100,nchgrid=300,R=1,nquad=1) # special case with nquad=1\n",
    "v1,c1 = m1.solve()\n",
    "v2,c2 = m2.solve_vfi()\n",
    "\n",
    "plt.plot(m1.grid,c1,label='Cake eating')\n",
    "plt.plot(m2.grid,c2,label='Deaton')\n",
    "plt.legend()\n",
    "plt.show"
   ]
  },
  {
   "cell_type": "markdown",
   "metadata": {
    "slideshow": {
     "slide_type": "slide"
    }
   },
   "source": [
    "#### Further learning resources\n",
    "\n",
    "- Cake eating problem on QuantEcon [https://python.quantecon.org/cake_eating_problem.html](https://python.quantecon.org/cake_eating_problem.html)  \n",
    "- Stochastic growth problem on QuantEcon [https://python.quantecon.org/optgrowth.html](https://python.quantecon.org/optgrowth.html)  \n",
    "- Income fluctuation problem on QuantEcon [https://python.quantecon.org/ifp.html](https://python.quantecon.org/ifp.html)  "
   ]
  }
 ],
 "metadata": {
  "celltoolbar": "Slideshow",
  "date": 1612589586.331305,
  "download_nb": false,
  "filename": "35_consumption_savings.rst",
  "filename_with_path": "35_consumption_savings",
  "kernelspec": {
   "display_name": "Python",
   "language": "python3",
   "name": "python3"
  },
  "language_info": {
   "codemirror_mode": {
    "name": "ipython",
    "version": 3
   },
   "file_extension": ".py",
   "mimetype": "text/x-python",
   "name": "python",
   "nbconvert_exporter": "python",
   "pygments_lexer": "ipython3",
   "version": "3.11.8"
  },
  "title": "Foundations of Computational Economics #35"
 },
 "nbformat": 4,
 "nbformat_minor": 4
}
